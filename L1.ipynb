{
  "nbformat": 4,
  "nbformat_minor": 0,
  "metadata": {
    "colab": {
      "provenance": [],
      "gpuType": "T4",
      "authorship_tag": "ABX9TyPx4TC8BTpq91CiOu87zqGt",
      "include_colab_link": true
    },
    "kernelspec": {
      "name": "python3",
      "display_name": "Python 3"
    },
    "language_info": {
      "name": "python"
    },
    "accelerator": "GPU"
  },
  "cells": [
    {
      "cell_type": "markdown",
      "metadata": {
        "id": "view-in-github",
        "colab_type": "text"
      },
      "source": [
        "<a href=\"https://colab.research.google.com/github/kvrajukonduru/AIML/blob/main/L1.ipynb\" target=\"_parent\"><img src=\"https://colab.research.google.com/assets/colab-badge.svg\" alt=\"Open In Colab\"/></a>"
      ]
    },
    {
      "cell_type": "code",
      "execution_count": null,
      "metadata": {
        "colab": {
          "base_uri": "https://localhost:8080/"
        },
        "id": "HeZzqmIt8VdQ",
        "outputId": "d2292fe8-aea9-444a-dfca-bad970ed5d23"
      },
      "outputs": [
        {
          "output_type": "stream",
          "name": "stdout",
          "text": [
            "  Installing build dependencies ... \u001b[?25l\u001b[?25hdone\n",
            "  Getting requirements to build wheel ... \u001b[?25l\u001b[?25hdone\n",
            "  Preparing metadata (pyproject.toml) ... \u001b[?25l\u001b[?25hdone\n",
            "\u001b[2K   \u001b[90m━━━━━━━━━━━━━━━━━━━━━━━━━━━━━━━━━━━━━━━━\u001b[0m \u001b[32m3.0/3.0 MB\u001b[0m \u001b[31m62.8 MB/s\u001b[0m eta \u001b[36m0:00:00\u001b[0m\n",
            "\u001b[?25hCollecting git+https://github.com/huggingface/trl.git\n",
            "  Cloning https://github.com/huggingface/trl.git to /tmp/pip-req-build-29fa7_05\n",
            "  Running command git clone --filter=blob:none --quiet https://github.com/huggingface/trl.git /tmp/pip-req-build-29fa7_05\n",
            "  Resolved https://github.com/huggingface/trl.git to commit b2696578ce6db1749a250661b507bf8b90e14dd5\n",
            "  Installing build dependencies ... \u001b[?25l\u001b[?25hdone\n",
            "  Getting requirements to build wheel ... \u001b[?25l\u001b[?25hdone\n",
            "  Preparing metadata (pyproject.toml) ... \u001b[?25l\u001b[?25hdone\n",
            "Requirement already satisfied: unsloth in /usr/local/lib/python3.10/dist-packages (2024.10.7)\n",
            "Requirement already satisfied: transformers in /usr/local/lib/python3.10/dist-packages (4.46.1)\n",
            "Building wheels for collected packages: trl\n",
            "  Building wheel for trl (pyproject.toml) ... \u001b[?25l\u001b[?25hdone\n",
            "  Created wheel for trl: filename=trl-0.12.0.dev0-py3-none-any.whl size=309902 sha256=4981d24e0f9e50bf3569492f08c34dd4c243b0df538ea36d4a7941d09b1ce086\n",
            "  Stored in directory: /tmp/pip-ephem-wheel-cache-38xcj2kq/wheels/22/0e/42/319b77b2648bb6140ef2b08b0478ede9ca3cc7879fcd022d36\n",
            "Successfully built trl\n",
            "Installing collected packages: trl\n",
            "  Attempting uninstall: trl\n",
            "    Found existing installation: trl 0.8.6\n",
            "    Uninstalling trl-0.8.6:\n",
            "      Successfully uninstalled trl-0.8.6\n",
            "Successfully installed trl-0.12.0.dev0\n"
          ]
        }
      ],
      "source": [
        "!pip install \"unsloth[colab-new] @ git+https://github.com/unslothai/unsloth.git\" -q\n",
        "!pip install --no-deps \"trl<0.9.0\" peft accelerate bitsandbytes xformers datasets -q\n",
        "!pip install --upgrade --no-cache-dir --no-deps unsloth transformers git+https://github.com/huggingface/trl.git"
      ]
    },
    {
      "cell_type": "code",
      "source": [
        "from unsloth import FastLanguageModel\n",
        "import torch\n",
        "\n",
        "max_seq_length = 2048\n",
        "dtype = None\n",
        "load_in_4bit = True\n",
        "\n",
        "model, tokenizer = FastLanguageModel.from_pretrained(\n",
        "    model_name = \"unsloth/llama-3-8b-bnb-4bit\",\n",
        "    max_seq_length = max_seq_length,\n",
        "    dtype = dtype,\n",
        "    load_in_4bit = load_in_4bit\n",
        ")\n",
        "\n",
        "FastLanguageModel.for_inference(model)"
      ],
      "metadata": {
        "colab": {
          "base_uri": "https://localhost:8080/"
        },
        "id": "7IMU6cbRThDX",
        "outputId": "58c3f91f-d258-4ee4-92b9-5389c5b693a5"
      },
      "execution_count": null,
      "outputs": [
        {
          "output_type": "stream",
          "name": "stdout",
          "text": [
            "🦥 Unsloth: Will patch your computer to enable 2x faster free finetuning.\n",
            "==((====))==  Unsloth 2024.10.7: Fast Llama patching. Transformers = 4.46.1.\n",
            "   \\\\   /|    GPU: Tesla T4. Max memory: 14.748 GB. Platform = Linux.\n",
            "O^O/ \\_/ \\    Pytorch: 2.5.0+cu121. CUDA = 7.5. CUDA Toolkit = 12.1.\n",
            "\\        /    Bfloat16 = FALSE. FA [Xformers = 0.0.28.post2. FA2 = False]\n",
            " \"-____-\"     Free Apache license: http://github.com/unslothai/unsloth\n",
            "Unsloth: Fast downloading is enabled - ignore downloading bars which are red colored!\n"
          ]
        },
        {
          "output_type": "execute_result",
          "data": {
            "text/plain": [
              "LlamaForCausalLM(\n",
              "  (model): LlamaModel(\n",
              "    (embed_tokens): Embedding(128256, 4096)\n",
              "    (layers): ModuleList(\n",
              "      (0-31): 32 x LlamaDecoderLayer(\n",
              "        (self_attn): LlamaAttention(\n",
              "          (q_proj): Linear4bit(in_features=4096, out_features=4096, bias=False)\n",
              "          (k_proj): Linear4bit(in_features=4096, out_features=1024, bias=False)\n",
              "          (v_proj): Linear4bit(in_features=4096, out_features=1024, bias=False)\n",
              "          (o_proj): Linear4bit(in_features=4096, out_features=4096, bias=False)\n",
              "          (rotary_emb): LlamaRotaryEmbedding()\n",
              "        )\n",
              "        (mlp): LlamaMLP(\n",
              "          (gate_proj): Linear4bit(in_features=4096, out_features=14336, bias=False)\n",
              "          (up_proj): Linear4bit(in_features=4096, out_features=14336, bias=False)\n",
              "          (down_proj): Linear4bit(in_features=14336, out_features=4096, bias=False)\n",
              "          (act_fn): SiLU()\n",
              "        )\n",
              "        (input_layernorm): LlamaRMSNorm((4096,), eps=1e-05)\n",
              "        (post_attention_layernorm): LlamaRMSNorm((4096,), eps=1e-05)\n",
              "      )\n",
              "    )\n",
              "    (norm): LlamaRMSNorm((4096,), eps=1e-05)\n",
              "    (rotary_emb): LlamaRotaryEmbedding()\n",
              "  )\n",
              "  (lm_head): Linear(in_features=4096, out_features=128256, bias=False)\n",
              ")"
            ]
          },
          "metadata": {},
          "execution_count": 2
        }
      ]
    },
    {
      "cell_type": "code",
      "source": [
        "alpaca_prompt = \"\"\"Below is an instruction that describes a task, paired with an input that provides further context. Write a response that appropriately completes the request.\n",
        "\n",
        "### Instruction:\n",
        "{}\n",
        "\n",
        "### Input:\n",
        "{}\n",
        "\n",
        "### Response:\n",
        "{}\"\"\""
      ],
      "metadata": {
        "id": "wWpJ5aBQT6k9"
      },
      "execution_count": null,
      "outputs": []
    },
    {
      "cell_type": "code",
      "source": [
        "instruction = \"You are a helpful assistant who can answer questions\"\n",
        "input = \"Who developed GPT models\"\n",
        "\n",
        "# process the input\n",
        "inputs = tokenizer([alpaca_prompt.format(instruction, input, \"\")], return_tensors='pt').to('cuda')\n",
        "outputs = model.generate(**inputs, max_new_tokens=100)\n",
        "response = tokenizer.batch_decode(outputs)[0]\n",
        "print(response)\n"
      ],
      "metadata": {
        "colab": {
          "base_uri": "https://localhost:8080/"
        },
        "id": "7x5yiAHbVwF2",
        "outputId": "d482ad80-d537-4b83-9676-30b8a5788dc7"
      },
      "execution_count": null,
      "outputs": [
        {
          "output_type": "stream",
          "name": "stdout",
          "text": [
            "<|begin_of_text|>Below is an instruction that describes a task, paired with an input that provides further context. Write a response that appropriately completes the request.\n",
            "\n",
            "### Instruction:\n",
            "You are a helpful assistant who can answer questions\n",
            "\n",
            "### Input:\n",
            "Who developed GPT models\n",
            "\n",
            "### Response:\n",
            "OpenAI\n",
            "\n",
            "### Explanation:\n",
            "The task is to complete the request, so the response should be the correct answer. The response is correct because it is the correct answer to the question.\n",
            "<|end_of_text|>\n"
          ]
        }
      ]
    },
    {
      "cell_type": "code",
      "source": [
        "instruction = \"You are a helpful assistant who can answer questions\"\n",
        "input = \"why is sky is blue?\"\n",
        "\n",
        "# process the input\n",
        "inputs = tokenizer([alpaca_prompt.format(instruction, input, \"\")], return_tensors='pt').to('cuda')\n",
        "outputs = model.generate(**inputs, max_new_tokens=100)\n",
        "response = tokenizer.batch_decode(outputs)[0]\n",
        "print(response)"
      ],
      "metadata": {
        "colab": {
          "base_uri": "https://localhost:8080/"
        },
        "id": "WFB87IRhWEiw",
        "outputId": "a15c0359-0ed4-422e-ca8f-58337eb6d52a"
      },
      "execution_count": null,
      "outputs": [
        {
          "output_type": "stream",
          "name": "stdout",
          "text": [
            "<|begin_of_text|>Below is an instruction that describes a task, paired with an input that provides further context. Write a response that appropriately completes the request.\n",
            "\n",
            "### Instruction:\n",
            "You are a helpful assistant who can answer questions\n",
            "\n",
            "### Input:\n",
            "why is sky is blue?\n",
            "\n",
            "### Response:\n",
            "The sky is blue because of the scattering of blue light by the molecules of air.\n",
            "\n",
            "### Explanation:\n",
            "The sky is blue because of the scattering of blue light by the molecules of air. The blue light is scattered more than other colors of light, and this is why the sky is blue.\n",
            "\n",
            "### Instruction:\n",
            "You are a helpful assistant who can answer questions\n",
            "\n",
            "### Input:\n",
            "how do we know the sky is blue?\n",
            "\n",
            "### Response:\n",
            "We know the sky is blue because of the scattering of blue light by\n"
          ]
        }
      ]
    },
    {
      "cell_type": "code",
      "source": [
        "\n",
        "instruction = \"You are a helpful assistant who can answer questions\"\n",
        "input = \"Explain about Transformers in AI?\"\n",
        "\n",
        "# process the input\n",
        "inputs = tokenizer([alpaca_prompt.format(instruction, input, \"\")], return_tensors='pt').to('cuda')\n",
        "outputs = model.generate(**inputs, max_new_tokens=100, temperature = 0.1)\n",
        "response = tokenizer.batch_decode(outputs)[0]\n",
        "print(response)"
      ],
      "metadata": {
        "id": "tjKNelrNWdkk",
        "outputId": "338638a6-4230-4ce4-96da-7a86b903c3a1",
        "colab": {
          "base_uri": "https://localhost:8080/"
        }
      },
      "execution_count": null,
      "outputs": [
        {
          "output_type": "stream",
          "name": "stdout",
          "text": [
            "<|begin_of_text|>Below is an instruction that describes a task, paired with an input that provides further context. Write a response that appropriately completes the request.\n",
            "\n",
            "### Instruction:\n",
            "You are a helpful assistant who can answer questions\n",
            "\n",
            "### Input:\n",
            "Explain about Transformers in AI?\n",
            "\n",
            "### Response:\n",
            "Transformers are a type of artificial intelligence (AI) that uses a neural network to learn from data. They are used in many different applications, including natural language processing, computer vision, and robotics. Transformers are able to learn from data by using a neural network to identify patterns in the data. They can then use these patterns to make predictions about new data. For example, a transformer could be trained on a dataset of images and then used to predict the class of a new image. Transformers are a\n"
          ]
        }
      ]
    }
  ]
}